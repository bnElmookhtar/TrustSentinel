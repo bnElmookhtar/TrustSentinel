{
 "cells": [
  {
   "cell_type": "code",
   "execution_count": 23,
   "metadata": {},
   "outputs": [],
   "source": [
    "import joblib\n",
    "import import_ipynb\n",
    "from utils import msg_preprocessing\n",
    "from preprocessing import vectorizer"
   ]
  },
  {
   "cell_type": "code",
   "execution_count": 24,
   "metadata": {},
   "outputs": [],
   "source": [
    "spam_messages = [\n",
    "    \"Congratulations! 🎉 You have won a $1000 gift card! Click the link to claim now: http://scamlink.com. Reply STOP to unsubscribe.\",\n",
    "    \"URGENT! 🚨 Your account has been suspended due to unusual activity. Verify now at http://fakebank.com to restore access.\",\n",
    "    \"You have been selected for a FREE iPhone 15! 📱 Click here to claim: http://freegift.com. Limited time offer!\",\n",
    "    \"Win a luxury vacation! 🌴 Just answer this short survey and claim your prize: http://vacationwinner.com\",\n",
    "    \"Your Netflix subscription has been blocked! 🔴 Update your payment details now: http://netflix-billing.com\",\n",
    "    \"Final warning! Your PayPal account is at risk. Secure it now at http://paypal-security.com\",\n",
    "    \"You have an unclaimed lottery prize! 🎟️ Claim your winnings before they expire: http://lotterywinner.com\"\n",
    "]\n"
   ]
  },
  {
   "cell_type": "code",
   "execution_count": 33,
   "metadata": {},
   "outputs": [],
   "source": [
    "import joblib\n",
    "\n",
    "def predict_message(message):\n",
    "    model = joblib.load('../models/naive_bayes.pkl')  # تحميل النموذج المدرب\n",
    "    vectorizer = joblib.load('../models/vectorizer.pkl')  # تحميل نفس الـ vectorizer المستخدم أثناء التدريب\n",
    "    message = msg_preprocessing(message)\n",
    "    message_vector = vectorizer.transform([message])  # تحويل النص باستخدام نفس الـ vectorizer\n",
    "    prediction = model.predict(message_vector)[0]\n",
    "    return  prediction\n"
   ]
  },
  {
   "cell_type": "code",
   "execution_count": null,
   "metadata": {},
   "outputs": [
    {
     "name": "stdout",
     "output_type": "stream",
     "text": [
      "spam\n"
     ]
    }
   ],
   "source": [
    "print(predict_message(spam_messages[6]))"
   ]
  },
  {
   "cell_type": "code",
   "execution_count": null,
   "metadata": {},
   "outputs": [],
   "source": []
  },
  {
   "cell_type": "code",
   "execution_count": null,
   "metadata": {},
   "outputs": [],
   "source": []
  }
 ],
 "metadata": {
  "kernelspec": {
   "display_name": "Python 3",
   "language": "python",
   "name": "python3"
  },
  "language_info": {
   "codemirror_mode": {
    "name": "ipython",
    "version": 3
   },
   "file_extension": ".py",
   "mimetype": "text/x-python",
   "name": "python",
   "nbconvert_exporter": "python",
   "pygments_lexer": "ipython3",
   "version": "3.12.9"
  }
 },
 "nbformat": 4,
 "nbformat_minor": 2
}
