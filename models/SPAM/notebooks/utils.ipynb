{
 "cells": [
  {
   "cell_type": "code",
   "execution_count": 24,
   "metadata": {},
   "outputs": [],
   "source": [
    "import nltk\n",
    "import re\n",
    "import numpy as np\n",
    "from nltk.corpus import stopwords"
   ]
  },
  {
   "cell_type": "code",
   "execution_count": 25,
   "metadata": {},
   "outputs": [],
   "source": [
    "def clean_msg(msg):\n",
    "    nltk.download('stopwords')\n",
    "    msg = msg.lower()\n",
    "    msg = re.sub('[^a-zA-Z ]', '', msg)\n",
    "    msg = msg.split()\n",
    "    words_of_msg = [word for word in msg if word not in set(stopwords.words('english'))]\n",
    "    preprocessed_msag = ' '.join(words_of_msg)\n",
    "    return preprocessed_msag\n"
   ]
  },
  {
   "cell_type": "code",
   "execution_count": 26,
   "metadata": {},
   "outputs": [],
   "source": [
    "def load_glove(file_path):\n",
    "    word_vectors = {}\n",
    "    with open(file_path,'r',encoding='utf-8') as f:\n",
    "        for line in f:\n",
    "            values = line.split()\n",
    "            word = values[0]\n",
    "            vector = np.array(values[1:],dtype='float32')\n",
    "            word_vectors[word] = vector\n",
    "    return word_vectors"
   ]
  },
  {
   "cell_type": "code",
   "execution_count": 27,
   "metadata": {},
   "outputs": [],
   "source": [
    "def text_to_vector(text,glove_vector_path):\n",
    "    words = clean_msg(text)\n",
    "    glove_vectors = load_glove(glove_vector_path)\n",
    "    word_vectors_list = [glove_vectors[word] for word in words if word in glove_vectors]\n",
    "    return np.mean(word_vectors_list, axis=0) if word_vectors_list else np.zeros(50)"
   ]
  },
  {
   "cell_type": "code",
   "execution_count": null,
   "metadata": {},
   "outputs": [],
   "source": []
  }
 ],
 "metadata": {
  "kernelspec": {
   "display_name": "Python 3",
   "language": "python",
   "name": "python3"
  },
  "language_info": {
   "codemirror_mode": {
    "name": "ipython",
    "version": 3
   },
   "file_extension": ".py",
   "mimetype": "text/x-python",
   "name": "python",
   "nbconvert_exporter": "python",
   "pygments_lexer": "ipython3",
   "version": "3.12.9"
  }
 },
 "nbformat": 4,
 "nbformat_minor": 2
}
