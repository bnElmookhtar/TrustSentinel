{
 "cells": [
  {
   "cell_type": "markdown",
   "metadata": {},
   "source": [
    "#### 1- Import libs"
   ]
  },
  {
   "cell_type": "code",
   "execution_count": null,
   "metadata": {},
   "outputs": [],
   "source": [
    "import tensorflow as tf\n",
    "import numpy as np \n",
    "import librosa\n",
    "import pandas as pd\n",
    "import os \n",
    "import matplotlib.pyplot as plt\n",
    "import soundfile as sf\n",
    "from sklearn.model_selection import train_test_split\n",
    "from tensorflow.keras import layers, models"
   ]
  },
  {
   "cell_type": "code",
   "execution_count": 2,
   "metadata": {
    "execution": {
     "iopub.execute_input": "2025-04-23T13:09:02.109188Z",
     "iopub.status.busy": "2025-04-23T13:09:02.108730Z",
     "iopub.status.idle": "2025-04-23T13:09:02.112677Z",
     "shell.execute_reply": "2025-04-23T13:09:02.111799Z",
     "shell.execute_reply.started": "2025-04-23T13:09:02.109165Z"
    },
    "trusted": true
   },
   "outputs": [],
   "source": [
    "import warnings\n",
    "warnings.filterwarnings(\"ignore\")"
   ]
  },
  {
   "cell_type": "code",
   "execution_count": 3,
   "metadata": {
    "execution": {
     "iopub.execute_input": "2025-04-23T13:09:02.114077Z",
     "iopub.status.busy": "2025-04-23T13:09:02.113778Z",
     "iopub.status.idle": "2025-04-23T13:09:02.142269Z",
     "shell.execute_reply": "2025-04-23T13:09:02.141307Z",
     "shell.execute_reply.started": "2025-04-23T13:09:02.114043Z"
    },
    "trusted": true
   },
   "outputs": [],
   "source": [
    "CV_PATH = '/kaggle/input/common-voice/cv-valid-train/cv-valid-train'\n",
    "RC_PATH = '/kaggle/input/audio-dataset-1-robocall-dataset/audio-wav/audio-wav-16khz'"
   ]
  },
  {
   "cell_type": "code",
   "execution_count": 4,
   "metadata": {
    "execution": {
     "iopub.execute_input": "2025-04-23T13:09:02.143376Z",
     "iopub.status.busy": "2025-04-23T13:09:02.143090Z",
     "iopub.status.idle": "2025-04-23T13:09:12.319769Z",
     "shell.execute_reply": "2025-04-23T13:09:12.319062Z",
     "shell.execute_reply.started": "2025-04-23T13:09:02.143341Z"
    },
    "trusted": true
   },
   "outputs": [],
   "source": [
    "cv_files = [os.path.join(CV_PATH,file)  for file in os.listdir(CV_PATH) if file.endswith('.mp3')]\n",
    "rc_files = [os.path.join(RC_PATH,file) for file in os.listdir(RC_PATH) if file.endswith('.wav')]"
   ]
  },
  {
   "cell_type": "code",
   "execution_count": null,
   "metadata": {
    "execution": {
     "iopub.execute_input": "2025-04-23T13:09:12.321680Z",
     "iopub.status.busy": "2025-04-23T13:09:12.321429Z",
     "iopub.status.idle": "2025-04-23T13:09:12.331600Z",
     "shell.execute_reply": "2025-04-23T13:09:12.330832Z",
     "shell.execute_reply.started": "2025-04-23T13:09:12.321635Z"
    },
    "trusted": true
   },
   "outputs": [],
   "source": [
    "# the first 1442 samples to balanced data and low power consumption\n",
    "cv_files = cv_files[:1442]"
   ]
  },
  {
   "cell_type": "code",
   "execution_count": 6,
   "metadata": {
    "execution": {
     "iopub.execute_input": "2025-04-23T13:09:12.333371Z",
     "iopub.status.busy": "2025-04-23T13:09:12.333139Z",
     "iopub.status.idle": "2025-04-23T13:09:12.382020Z",
     "shell.execute_reply": "2025-04-23T13:09:12.381133Z",
     "shell.execute_reply.started": "2025-04-23T13:09:12.333352Z"
    },
    "trusted": true
   },
   "outputs": [],
   "source": [
    "cv_metadata = [{'file_path': file, 'label':0} for file in cv_files]\n",
    "rc_metadata = [{'file_path': file, 'label':1} for file in rc_files]\n"
   ]
  },
  {
   "cell_type": "code",
   "execution_count": 7,
   "metadata": {
    "execution": {
     "iopub.execute_input": "2025-04-23T13:09:12.383051Z",
     "iopub.status.busy": "2025-04-23T13:09:12.382838Z",
     "iopub.status.idle": "2025-04-23T13:09:12.399564Z",
     "shell.execute_reply": "2025-04-23T13:09:12.398874Z",
     "shell.execute_reply.started": "2025-04-23T13:09:12.383033Z"
    },
    "trusted": true
   },
   "outputs": [
    {
     "data": {
      "text/plain": [
       "['/kaggle/input/common-voice/cv-valid-train/cv-valid-train/sample-190523.mp3',\n",
       " '/kaggle/input/common-voice/cv-valid-train/cv-valid-train/sample-134671.mp3',\n",
       " '/kaggle/input/common-voice/cv-valid-train/cv-valid-train/sample-136900.mp3',\n",
       " '/kaggle/input/common-voice/cv-valid-train/cv-valid-train/sample-087521.mp3',\n",
       " '/kaggle/input/common-voice/cv-valid-train/cv-valid-train/sample-141316.mp3']"
      ]
     },
     "execution_count": 7,
     "metadata": {},
     "output_type": "execute_result"
    }
   ],
   "source": [
    "cv_files[:5]"
   ]
  },
  {
   "cell_type": "code",
   "execution_count": 8,
   "metadata": {
    "execution": {
     "iopub.execute_input": "2025-04-23T13:09:12.400741Z",
     "iopub.status.busy": "2025-04-23T13:09:12.400410Z",
     "iopub.status.idle": "2025-04-23T13:09:12.416635Z",
     "shell.execute_reply": "2025-04-23T13:09:12.415896Z",
     "shell.execute_reply.started": "2025-04-23T13:09:12.400710Z"
    },
    "trusted": true
   },
   "outputs": [
    {
     "data": {
      "text/plain": [
       "['/kaggle/input/audio-dataset-1-robocall-dataset/audio-wav/audio-wav-16khz/739583_normalized.wav',\n",
       " '/kaggle/input/audio-dataset-1-robocall-dataset/audio-wav/audio-wav-16khz/520014_normalized.wav',\n",
       " '/kaggle/input/audio-dataset-1-robocall-dataset/audio-wav/audio-wav-16khz/447375_normalized.wav',\n",
       " '/kaggle/input/audio-dataset-1-robocall-dataset/audio-wav/audio-wav-16khz/383719_normalized.wav',\n",
       " '/kaggle/input/audio-dataset-1-robocall-dataset/audio-wav/audio-wav-16khz/307201_normalized.wav']"
      ]
     },
     "execution_count": 8,
     "metadata": {},
     "output_type": "execute_result"
    }
   ],
   "source": [
    "rc_files[:5]"
   ]
  },
  {
   "cell_type": "code",
   "execution_count": 9,
   "metadata": {
    "execution": {
     "iopub.execute_input": "2025-04-23T13:09:12.417574Z",
     "iopub.status.busy": "2025-04-23T13:09:12.417359Z",
     "iopub.status.idle": "2025-04-23T13:09:12.431140Z",
     "shell.execute_reply": "2025-04-23T13:09:12.430516Z",
     "shell.execute_reply.started": "2025-04-23T13:09:12.417555Z"
    },
    "trusted": true
   },
   "outputs": [
    {
     "data": {
      "text/plain": [
       "[{'file_path': '/kaggle/input/audio-dataset-1-robocall-dataset/audio-wav/audio-wav-16khz/739583_normalized.wav',\n",
       "  'label': 1},\n",
       " {'file_path': '/kaggle/input/audio-dataset-1-robocall-dataset/audio-wav/audio-wav-16khz/520014_normalized.wav',\n",
       "  'label': 1},\n",
       " {'file_path': '/kaggle/input/audio-dataset-1-robocall-dataset/audio-wav/audio-wav-16khz/447375_normalized.wav',\n",
       "  'label': 1}]"
      ]
     },
     "execution_count": 9,
     "metadata": {},
     "output_type": "execute_result"
    }
   ],
   "source": [
    "rc_metadata[:3]"
   ]
  },
  {
   "cell_type": "code",
   "execution_count": 10,
   "metadata": {
    "execution": {
     "iopub.execute_input": "2025-04-23T13:09:12.432083Z",
     "iopub.status.busy": "2025-04-23T13:09:12.431865Z",
     "iopub.status.idle": "2025-04-23T13:09:12.446824Z",
     "shell.execute_reply": "2025-04-23T13:09:12.446032Z",
     "shell.execute_reply.started": "2025-04-23T13:09:12.432064Z"
    },
    "trusted": true
   },
   "outputs": [
    {
     "data": {
      "text/plain": [
       "[{'file_path': '/kaggle/input/common-voice/cv-valid-train/cv-valid-train/sample-190523.mp3',\n",
       "  'label': 0},\n",
       " {'file_path': '/kaggle/input/common-voice/cv-valid-train/cv-valid-train/sample-134671.mp3',\n",
       "  'label': 0},\n",
       " {'file_path': '/kaggle/input/common-voice/cv-valid-train/cv-valid-train/sample-136900.mp3',\n",
       "  'label': 0}]"
      ]
     },
     "execution_count": 10,
     "metadata": {},
     "output_type": "execute_result"
    }
   ],
   "source": [
    "cv_metadata[:3]"
   ]
  },
  {
   "cell_type": "markdown",
   "metadata": {},
   "source": [
    "##### 2- compined the legtimite and robocalls"
   ]
  },
  {
   "cell_type": "code",
   "execution_count": null,
   "metadata": {
    "execution": {
     "iopub.execute_input": "2025-04-23T13:09:12.448101Z",
     "iopub.status.busy": "2025-04-23T13:09:12.447702Z",
     "iopub.status.idle": "2025-04-23T13:09:12.464274Z",
     "shell.execute_reply": "2025-04-23T13:09:12.463385Z",
     "shell.execute_reply.started": "2025-04-23T13:09:12.448071Z"
    },
    "trusted": true
   },
   "outputs": [],
   "source": [
    "compined_metadata = cv_metadata + rc_metadata\n",
    "df = pd.DataFrame(compined_metadata)"
   ]
  },
  {
   "cell_type": "markdown",
   "metadata": {},
   "source": [
    "#### 3- EDA for compined"
   ]
  },
  {
   "cell_type": "code",
   "execution_count": 12,
   "metadata": {
    "execution": {
     "iopub.execute_input": "2025-04-23T13:09:12.465443Z",
     "iopub.status.busy": "2025-04-23T13:09:12.465147Z",
     "iopub.status.idle": "2025-04-23T13:09:12.493801Z",
     "shell.execute_reply": "2025-04-23T13:09:12.492916Z",
     "shell.execute_reply.started": "2025-04-23T13:09:12.465417Z"
    },
    "trusted": true
   },
   "outputs": [
    {
     "data": {
      "text/html": [
       "<div>\n",
       "<style scoped>\n",
       "    .dataframe tbody tr th:only-of-type {\n",
       "        vertical-align: middle;\n",
       "    }\n",
       "\n",
       "    .dataframe tbody tr th {\n",
       "        vertical-align: top;\n",
       "    }\n",
       "\n",
       "    .dataframe thead th {\n",
       "        text-align: right;\n",
       "    }\n",
       "</style>\n",
       "<table border=\"1\" class=\"dataframe\">\n",
       "  <thead>\n",
       "    <tr style=\"text-align: right;\">\n",
       "      <th></th>\n",
       "      <th>file_path</th>\n",
       "      <th>label</th>\n",
       "    </tr>\n",
       "  </thead>\n",
       "  <tbody>\n",
       "    <tr>\n",
       "      <th>0</th>\n",
       "      <td>/kaggle/input/common-voice/cv-valid-train/cv-v...</td>\n",
       "      <td>0</td>\n",
       "    </tr>\n",
       "    <tr>\n",
       "      <th>1</th>\n",
       "      <td>/kaggle/input/common-voice/cv-valid-train/cv-v...</td>\n",
       "      <td>0</td>\n",
       "    </tr>\n",
       "    <tr>\n",
       "      <th>2</th>\n",
       "      <td>/kaggle/input/common-voice/cv-valid-train/cv-v...</td>\n",
       "      <td>0</td>\n",
       "    </tr>\n",
       "    <tr>\n",
       "      <th>3</th>\n",
       "      <td>/kaggle/input/common-voice/cv-valid-train/cv-v...</td>\n",
       "      <td>0</td>\n",
       "    </tr>\n",
       "    <tr>\n",
       "      <th>4</th>\n",
       "      <td>/kaggle/input/common-voice/cv-valid-train/cv-v...</td>\n",
       "      <td>0</td>\n",
       "    </tr>\n",
       "  </tbody>\n",
       "</table>\n",
       "</div>"
      ],
      "text/plain": [
       "                                           file_path  label\n",
       "0  /kaggle/input/common-voice/cv-valid-train/cv-v...      0\n",
       "1  /kaggle/input/common-voice/cv-valid-train/cv-v...      0\n",
       "2  /kaggle/input/common-voice/cv-valid-train/cv-v...      0\n",
       "3  /kaggle/input/common-voice/cv-valid-train/cv-v...      0\n",
       "4  /kaggle/input/common-voice/cv-valid-train/cv-v...      0"
      ]
     },
     "execution_count": 12,
     "metadata": {},
     "output_type": "execute_result"
    }
   ],
   "source": [
    "df.head()"
   ]
  },
  {
   "cell_type": "code",
   "execution_count": 13,
   "metadata": {
    "execution": {
     "iopub.execute_input": "2025-04-23T13:09:12.495165Z",
     "iopub.status.busy": "2025-04-23T13:09:12.494914Z",
     "iopub.status.idle": "2025-04-23T13:09:12.502158Z",
     "shell.execute_reply": "2025-04-23T13:09:12.501472Z",
     "shell.execute_reply.started": "2025-04-23T13:09:12.495134Z"
    },
    "trusted": true
   },
   "outputs": [
    {
     "data": {
      "text/html": [
       "<div>\n",
       "<style scoped>\n",
       "    .dataframe tbody tr th:only-of-type {\n",
       "        vertical-align: middle;\n",
       "    }\n",
       "\n",
       "    .dataframe tbody tr th {\n",
       "        vertical-align: top;\n",
       "    }\n",
       "\n",
       "    .dataframe thead th {\n",
       "        text-align: right;\n",
       "    }\n",
       "</style>\n",
       "<table border=\"1\" class=\"dataframe\">\n",
       "  <thead>\n",
       "    <tr style=\"text-align: right;\">\n",
       "      <th></th>\n",
       "      <th>file_path</th>\n",
       "      <th>label</th>\n",
       "    </tr>\n",
       "  </thead>\n",
       "  <tbody>\n",
       "    <tr>\n",
       "      <th>2810</th>\n",
       "      <td>/kaggle/input/audio-dataset-1-robocall-dataset...</td>\n",
       "      <td>1</td>\n",
       "    </tr>\n",
       "    <tr>\n",
       "      <th>2811</th>\n",
       "      <td>/kaggle/input/audio-dataset-1-robocall-dataset...</td>\n",
       "      <td>1</td>\n",
       "    </tr>\n",
       "    <tr>\n",
       "      <th>2812</th>\n",
       "      <td>/kaggle/input/audio-dataset-1-robocall-dataset...</td>\n",
       "      <td>1</td>\n",
       "    </tr>\n",
       "    <tr>\n",
       "      <th>2813</th>\n",
       "      <td>/kaggle/input/audio-dataset-1-robocall-dataset...</td>\n",
       "      <td>1</td>\n",
       "    </tr>\n",
       "    <tr>\n",
       "      <th>2814</th>\n",
       "      <td>/kaggle/input/audio-dataset-1-robocall-dataset...</td>\n",
       "      <td>1</td>\n",
       "    </tr>\n",
       "  </tbody>\n",
       "</table>\n",
       "</div>"
      ],
      "text/plain": [
       "                                              file_path  label\n",
       "2810  /kaggle/input/audio-dataset-1-robocall-dataset...      1\n",
       "2811  /kaggle/input/audio-dataset-1-robocall-dataset...      1\n",
       "2812  /kaggle/input/audio-dataset-1-robocall-dataset...      1\n",
       "2813  /kaggle/input/audio-dataset-1-robocall-dataset...      1\n",
       "2814  /kaggle/input/audio-dataset-1-robocall-dataset...      1"
      ]
     },
     "execution_count": 13,
     "metadata": {},
     "output_type": "execute_result"
    }
   ],
   "source": [
    "df.tail()"
   ]
  },
  {
   "cell_type": "code",
   "execution_count": 14,
   "metadata": {
    "execution": {
     "iopub.execute_input": "2025-04-23T13:09:12.504975Z",
     "iopub.status.busy": "2025-04-23T13:09:12.504770Z",
     "iopub.status.idle": "2025-04-23T13:09:12.517620Z",
     "shell.execute_reply": "2025-04-23T13:09:12.517014Z",
     "shell.execute_reply.started": "2025-04-23T13:09:12.504957Z"
    },
    "trusted": true
   },
   "outputs": [
    {
     "data": {
      "text/plain": [
       "1373"
      ]
     },
     "execution_count": 14,
     "metadata": {},
     "output_type": "execute_result"
    }
   ],
   "source": [
    "len(rc_metadata)"
   ]
  },
  {
   "cell_type": "code",
   "execution_count": 15,
   "metadata": {
    "execution": {
     "iopub.execute_input": "2025-04-23T13:09:12.518761Z",
     "iopub.status.busy": "2025-04-23T13:09:12.518524Z",
     "iopub.status.idle": "2025-04-23T13:09:12.533488Z",
     "shell.execute_reply": "2025-04-23T13:09:12.532833Z",
     "shell.execute_reply.started": "2025-04-23T13:09:12.518742Z"
    },
    "trusted": true
   },
   "outputs": [
    {
     "data": {
      "text/plain": [
       "1442"
      ]
     },
     "execution_count": 15,
     "metadata": {},
     "output_type": "execute_result"
    }
   ],
   "source": [
    "len(cv_metadata)"
   ]
  },
  {
   "cell_type": "markdown",
   "metadata": {},
   "source": [
    "#### 4- Split for train and test"
   ]
  },
  {
   "cell_type": "code",
   "execution_count": 16,
   "metadata": {
    "execution": {
     "iopub.execute_input": "2025-04-23T13:09:12.534510Z",
     "iopub.status.busy": "2025-04-23T13:09:12.534244Z",
     "iopub.status.idle": "2025-04-23T13:09:12.557928Z",
     "shell.execute_reply": "2025-04-23T13:09:12.557236Z",
     "shell.execute_reply.started": "2025-04-23T13:09:12.534490Z"
    },
    "trusted": true
   },
   "outputs": [],
   "source": [
    "train_df, test_df = train_test_split(df,stratify = df['label'], test_size = 0.2, random_state = 42)"
   ]
  },
  {
   "cell_type": "code",
   "execution_count": 17,
   "metadata": {
    "execution": {
     "iopub.execute_input": "2025-04-23T13:09:12.559256Z",
     "iopub.status.busy": "2025-04-23T13:09:12.558964Z",
     "iopub.status.idle": "2025-04-23T13:09:12.570305Z",
     "shell.execute_reply": "2025-04-23T13:09:12.569585Z",
     "shell.execute_reply.started": "2025-04-23T13:09:12.559227Z"
    },
    "trusted": true
   },
   "outputs": [
    {
     "data": {
      "text/plain": [
       "label\n",
       "0    288\n",
       "1    275\n",
       "Name: count, dtype: int64"
      ]
     },
     "execution_count": 17,
     "metadata": {},
     "output_type": "execute_result"
    }
   ],
   "source": [
    "check_test_division = test_df['label'].value_counts()\n",
    "check_test_division"
   ]
  },
  {
   "cell_type": "code",
   "execution_count": 18,
   "metadata": {
    "execution": {
     "iopub.execute_input": "2025-04-23T13:09:12.571223Z",
     "iopub.status.busy": "2025-04-23T13:09:12.571023Z",
     "iopub.status.idle": "2025-04-23T13:09:12.586391Z",
     "shell.execute_reply": "2025-04-23T13:09:12.585584Z",
     "shell.execute_reply.started": "2025-04-23T13:09:12.571206Z"
    },
    "trusted": true
   },
   "outputs": [
    {
     "data": {
      "text/plain": [
       "label\n",
       "0    1154\n",
       "1    1098\n",
       "Name: count, dtype: int64"
      ]
     },
     "execution_count": 18,
     "metadata": {},
     "output_type": "execute_result"
    }
   ],
   "source": [
    "check_train_division = train_df['label'].value_counts()\n",
    "check_train_division"
   ]
  },
  {
   "cell_type": "markdown",
   "metadata": {},
   "source": [
    "#### 5- Feature extrtacation using spectrogram"
   ]
  },
  {
   "cell_type": "code",
   "execution_count": 19,
   "metadata": {
    "execution": {
     "iopub.execute_input": "2025-04-23T13:09:12.587333Z",
     "iopub.status.busy": "2025-04-23T13:09:12.587112Z",
     "iopub.status.idle": "2025-04-23T13:10:41.561514Z",
     "shell.execute_reply": "2025-04-23T13:10:41.560556Z",
     "shell.execute_reply.started": "2025-04-23T13:09:12.587314Z"
    },
    "trusted": true
   },
   "outputs": [],
   "source": [
    "def extract_spectrogram(file_path, max_length=16000 * 5):\n",
    "    # تحميل الصوت\n",
    "    audio, sr = librosa.load(file_path, sr=16000)\n",
    "\n",
    "    if len(audio) > max_length:\n",
    "        audio = audio[:max_length]\n",
    "    else:\n",
    "        audio = np.pad(audio, (0, max_length - len(audio)), \"constant\")\n",
    "\n",
    "    S = librosa.feature.melspectrogram(y=audio, sr=sr, n_mels=128)\n",
    "    S_db = librosa.power_to_db(S, ref=np.max)\n",
    "\n",
    "    return S_db\n",
    "\n",
    "def prepare_data(df):\n",
    "    X = []\n",
    "    y = []\n",
    "    for _, row in df.iterrows():\n",
    "        spectrogram = extract_spectrogram(row[\"file_path\"])\n",
    "        X.append(spectrogram)\n",
    "        y.append(row[\"label\"])\n",
    "    return np.array(X), np.array(y)\n",
    "\n",
    "X_train, y_train = prepare_data(train_df)\n",
    "X_test, y_test = prepare_data(test_df)\n",
    "\n",
    "X_train = X_train[..., np.newaxis]\n",
    "X_test = X_test[..., np.newaxis]"
   ]
  },
  {
   "cell_type": "markdown",
   "metadata": {},
   "source": [
    "#### 6- Building the CNN"
   ]
  },
  {
   "cell_type": "code",
   "execution_count": null,
   "metadata": {
    "execution": {
     "iopub.execute_input": "2025-04-23T13:10:41.563141Z",
     "iopub.status.busy": "2025-04-23T13:10:41.562474Z",
     "iopub.status.idle": "2025-04-23T13:10:43.687829Z",
     "shell.execute_reply": "2025-04-23T13:10:43.687156Z",
     "shell.execute_reply.started": "2025-04-23T13:10:41.563104Z"
    },
    "trusted": true
   },
   "outputs": [
    {
     "data": {
      "text/html": [
       "<pre style=\"white-space:pre;overflow-x:auto;line-height:normal;font-family:Menlo,'DejaVu Sans Mono',consolas,'Courier New',monospace\"><span style=\"font-weight: bold\">Model: \"sequential\"</span>\n",
       "</pre>\n"
      ],
      "text/plain": [
       "\u001b[1mModel: \"sequential\"\u001b[0m\n"
      ]
     },
     "metadata": {},
     "output_type": "display_data"
    },
    {
     "data": {
      "text/html": [
       "<pre style=\"white-space:pre;overflow-x:auto;line-height:normal;font-family:Menlo,'DejaVu Sans Mono',consolas,'Courier New',monospace\">┏━━━━━━━━━━━━━━━━━━━━━━━━━━━━━━━━━━━━━━┳━━━━━━━━━━━━━━━━━━━━━━━━━━━━━┳━━━━━━━━━━━━━━━━━┓\n",
       "┃<span style=\"font-weight: bold\"> Layer (type)                         </span>┃<span style=\"font-weight: bold\"> Output Shape                </span>┃<span style=\"font-weight: bold\">         Param # </span>┃\n",
       "┡━━━━━━━━━━━━━━━━━━━━━━━━━━━━━━━━━━━━━━╇━━━━━━━━━━━━━━━━━━━━━━━━━━━━━╇━━━━━━━━━━━━━━━━━┩\n",
       "│ conv2d (<span style=\"color: #0087ff; text-decoration-color: #0087ff\">Conv2D</span>)                      │ (<span style=\"color: #00d7ff; text-decoration-color: #00d7ff\">None</span>, <span style=\"color: #00af00; text-decoration-color: #00af00\">128</span>, <span style=\"color: #00af00; text-decoration-color: #00af00\">157</span>, <span style=\"color: #00af00; text-decoration-color: #00af00\">32</span>)        │             <span style=\"color: #00af00; text-decoration-color: #00af00\">320</span> │\n",
       "├──────────────────────────────────────┼─────────────────────────────┼─────────────────┤\n",
       "│ max_pooling2d (<span style=\"color: #0087ff; text-decoration-color: #0087ff\">MaxPooling2D</span>)         │ (<span style=\"color: #00d7ff; text-decoration-color: #00d7ff\">None</span>, <span style=\"color: #00af00; text-decoration-color: #00af00\">64</span>, <span style=\"color: #00af00; text-decoration-color: #00af00\">78</span>, <span style=\"color: #00af00; text-decoration-color: #00af00\">32</span>)          │               <span style=\"color: #00af00; text-decoration-color: #00af00\">0</span> │\n",
       "├──────────────────────────────────────┼─────────────────────────────┼─────────────────┤\n",
       "│ conv2d_1 (<span style=\"color: #0087ff; text-decoration-color: #0087ff\">Conv2D</span>)                    │ (<span style=\"color: #00d7ff; text-decoration-color: #00d7ff\">None</span>, <span style=\"color: #00af00; text-decoration-color: #00af00\">64</span>, <span style=\"color: #00af00; text-decoration-color: #00af00\">78</span>, <span style=\"color: #00af00; text-decoration-color: #00af00\">64</span>)          │          <span style=\"color: #00af00; text-decoration-color: #00af00\">18,496</span> │\n",
       "├──────────────────────────────────────┼─────────────────────────────┼─────────────────┤\n",
       "│ max_pooling2d_1 (<span style=\"color: #0087ff; text-decoration-color: #0087ff\">MaxPooling2D</span>)       │ (<span style=\"color: #00d7ff; text-decoration-color: #00d7ff\">None</span>, <span style=\"color: #00af00; text-decoration-color: #00af00\">32</span>, <span style=\"color: #00af00; text-decoration-color: #00af00\">39</span>, <span style=\"color: #00af00; text-decoration-color: #00af00\">64</span>)          │               <span style=\"color: #00af00; text-decoration-color: #00af00\">0</span> │\n",
       "├──────────────────────────────────────┼─────────────────────────────┼─────────────────┤\n",
       "│ conv2d_2 (<span style=\"color: #0087ff; text-decoration-color: #0087ff\">Conv2D</span>)                    │ (<span style=\"color: #00d7ff; text-decoration-color: #00d7ff\">None</span>, <span style=\"color: #00af00; text-decoration-color: #00af00\">32</span>, <span style=\"color: #00af00; text-decoration-color: #00af00\">39</span>, <span style=\"color: #00af00; text-decoration-color: #00af00\">128</span>)         │          <span style=\"color: #00af00; text-decoration-color: #00af00\">73,856</span> │\n",
       "├──────────────────────────────────────┼─────────────────────────────┼─────────────────┤\n",
       "│ max_pooling2d_2 (<span style=\"color: #0087ff; text-decoration-color: #0087ff\">MaxPooling2D</span>)       │ (<span style=\"color: #00d7ff; text-decoration-color: #00d7ff\">None</span>, <span style=\"color: #00af00; text-decoration-color: #00af00\">16</span>, <span style=\"color: #00af00; text-decoration-color: #00af00\">19</span>, <span style=\"color: #00af00; text-decoration-color: #00af00\">128</span>)         │               <span style=\"color: #00af00; text-decoration-color: #00af00\">0</span> │\n",
       "├──────────────────────────────────────┼─────────────────────────────┼─────────────────┤\n",
       "│ flatten (<span style=\"color: #0087ff; text-decoration-color: #0087ff\">Flatten</span>)                    │ (<span style=\"color: #00d7ff; text-decoration-color: #00d7ff\">None</span>, <span style=\"color: #00af00; text-decoration-color: #00af00\">38912</span>)               │               <span style=\"color: #00af00; text-decoration-color: #00af00\">0</span> │\n",
       "├──────────────────────────────────────┼─────────────────────────────┼─────────────────┤\n",
       "│ dense (<span style=\"color: #0087ff; text-decoration-color: #0087ff\">Dense</span>)                        │ (<span style=\"color: #00d7ff; text-decoration-color: #00d7ff\">None</span>, <span style=\"color: #00af00; text-decoration-color: #00af00\">128</span>)                 │       <span style=\"color: #00af00; text-decoration-color: #00af00\">4,980,864</span> │\n",
       "├──────────────────────────────────────┼─────────────────────────────┼─────────────────┤\n",
       "│ dropout (<span style=\"color: #0087ff; text-decoration-color: #0087ff\">Dropout</span>)                    │ (<span style=\"color: #00d7ff; text-decoration-color: #00d7ff\">None</span>, <span style=\"color: #00af00; text-decoration-color: #00af00\">128</span>)                 │               <span style=\"color: #00af00; text-decoration-color: #00af00\">0</span> │\n",
       "├──────────────────────────────────────┼─────────────────────────────┼─────────────────┤\n",
       "│ dense_1 (<span style=\"color: #0087ff; text-decoration-color: #0087ff\">Dense</span>)                      │ (<span style=\"color: #00d7ff; text-decoration-color: #00d7ff\">None</span>, <span style=\"color: #00af00; text-decoration-color: #00af00\">1</span>)                   │             <span style=\"color: #00af00; text-decoration-color: #00af00\">129</span> │\n",
       "└──────────────────────────────────────┴─────────────────────────────┴─────────────────┘\n",
       "</pre>\n"
      ],
      "text/plain": [
       "┏━━━━━━━━━━━━━━━━━━━━━━━━━━━━━━━━━━━━━━┳━━━━━━━━━━━━━━━━━━━━━━━━━━━━━┳━━━━━━━━━━━━━━━━━┓\n",
       "┃\u001b[1m \u001b[0m\u001b[1mLayer (type)                        \u001b[0m\u001b[1m \u001b[0m┃\u001b[1m \u001b[0m\u001b[1mOutput Shape               \u001b[0m\u001b[1m \u001b[0m┃\u001b[1m \u001b[0m\u001b[1m        Param #\u001b[0m\u001b[1m \u001b[0m┃\n",
       "┡━━━━━━━━━━━━━━━━━━━━━━━━━━━━━━━━━━━━━━╇━━━━━━━━━━━━━━━━━━━━━━━━━━━━━╇━━━━━━━━━━━━━━━━━┩\n",
       "│ conv2d (\u001b[38;5;33mConv2D\u001b[0m)                      │ (\u001b[38;5;45mNone\u001b[0m, \u001b[38;5;34m128\u001b[0m, \u001b[38;5;34m157\u001b[0m, \u001b[38;5;34m32\u001b[0m)        │             \u001b[38;5;34m320\u001b[0m │\n",
       "├──────────────────────────────────────┼─────────────────────────────┼─────────────────┤\n",
       "│ max_pooling2d (\u001b[38;5;33mMaxPooling2D\u001b[0m)         │ (\u001b[38;5;45mNone\u001b[0m, \u001b[38;5;34m64\u001b[0m, \u001b[38;5;34m78\u001b[0m, \u001b[38;5;34m32\u001b[0m)          │               \u001b[38;5;34m0\u001b[0m │\n",
       "├──────────────────────────────────────┼─────────────────────────────┼─────────────────┤\n",
       "│ conv2d_1 (\u001b[38;5;33mConv2D\u001b[0m)                    │ (\u001b[38;5;45mNone\u001b[0m, \u001b[38;5;34m64\u001b[0m, \u001b[38;5;34m78\u001b[0m, \u001b[38;5;34m64\u001b[0m)          │          \u001b[38;5;34m18,496\u001b[0m │\n",
       "├──────────────────────────────────────┼─────────────────────────────┼─────────────────┤\n",
       "│ max_pooling2d_1 (\u001b[38;5;33mMaxPooling2D\u001b[0m)       │ (\u001b[38;5;45mNone\u001b[0m, \u001b[38;5;34m32\u001b[0m, \u001b[38;5;34m39\u001b[0m, \u001b[38;5;34m64\u001b[0m)          │               \u001b[38;5;34m0\u001b[0m │\n",
       "├──────────────────────────────────────┼─────────────────────────────┼─────────────────┤\n",
       "│ conv2d_2 (\u001b[38;5;33mConv2D\u001b[0m)                    │ (\u001b[38;5;45mNone\u001b[0m, \u001b[38;5;34m32\u001b[0m, \u001b[38;5;34m39\u001b[0m, \u001b[38;5;34m128\u001b[0m)         │          \u001b[38;5;34m73,856\u001b[0m │\n",
       "├──────────────────────────────────────┼─────────────────────────────┼─────────────────┤\n",
       "│ max_pooling2d_2 (\u001b[38;5;33mMaxPooling2D\u001b[0m)       │ (\u001b[38;5;45mNone\u001b[0m, \u001b[38;5;34m16\u001b[0m, \u001b[38;5;34m19\u001b[0m, \u001b[38;5;34m128\u001b[0m)         │               \u001b[38;5;34m0\u001b[0m │\n",
       "├──────────────────────────────────────┼─────────────────────────────┼─────────────────┤\n",
       "│ flatten (\u001b[38;5;33mFlatten\u001b[0m)                    │ (\u001b[38;5;45mNone\u001b[0m, \u001b[38;5;34m38912\u001b[0m)               │               \u001b[38;5;34m0\u001b[0m │\n",
       "├──────────────────────────────────────┼─────────────────────────────┼─────────────────┤\n",
       "│ dense (\u001b[38;5;33mDense\u001b[0m)                        │ (\u001b[38;5;45mNone\u001b[0m, \u001b[38;5;34m128\u001b[0m)                 │       \u001b[38;5;34m4,980,864\u001b[0m │\n",
       "├──────────────────────────────────────┼─────────────────────────────┼─────────────────┤\n",
       "│ dropout (\u001b[38;5;33mDropout\u001b[0m)                    │ (\u001b[38;5;45mNone\u001b[0m, \u001b[38;5;34m128\u001b[0m)                 │               \u001b[38;5;34m0\u001b[0m │\n",
       "├──────────────────────────────────────┼─────────────────────────────┼─────────────────┤\n",
       "│ dense_1 (\u001b[38;5;33mDense\u001b[0m)                      │ (\u001b[38;5;45mNone\u001b[0m, \u001b[38;5;34m1\u001b[0m)                   │             \u001b[38;5;34m129\u001b[0m │\n",
       "└──────────────────────────────────────┴─────────────────────────────┴─────────────────┘\n"
      ]
     },
     "metadata": {},
     "output_type": "display_data"
    },
    {
     "data": {
      "text/html": [
       "<pre style=\"white-space:pre;overflow-x:auto;line-height:normal;font-family:Menlo,'DejaVu Sans Mono',consolas,'Courier New',monospace\"><span style=\"font-weight: bold\"> Total params: </span><span style=\"color: #00af00; text-decoration-color: #00af00\">5,073,665</span> (19.35 MB)\n",
       "</pre>\n"
      ],
      "text/plain": [
       "\u001b[1m Total params: \u001b[0m\u001b[38;5;34m5,073,665\u001b[0m (19.35 MB)\n"
      ]
     },
     "metadata": {},
     "output_type": "display_data"
    },
    {
     "data": {
      "text/html": [
       "<pre style=\"white-space:pre;overflow-x:auto;line-height:normal;font-family:Menlo,'DejaVu Sans Mono',consolas,'Courier New',monospace\"><span style=\"font-weight: bold\"> Trainable params: </span><span style=\"color: #00af00; text-decoration-color: #00af00\">5,073,665</span> (19.35 MB)\n",
       "</pre>\n"
      ],
      "text/plain": [
       "\u001b[1m Trainable params: \u001b[0m\u001b[38;5;34m5,073,665\u001b[0m (19.35 MB)\n"
      ]
     },
     "metadata": {},
     "output_type": "display_data"
    },
    {
     "data": {
      "text/html": [
       "<pre style=\"white-space:pre;overflow-x:auto;line-height:normal;font-family:Menlo,'DejaVu Sans Mono',consolas,'Courier New',monospace\"><span style=\"font-weight: bold\"> Non-trainable params: </span><span style=\"color: #00af00; text-decoration-color: #00af00\">0</span> (0.00 B)\n",
       "</pre>\n"
      ],
      "text/plain": [
       "\u001b[1m Non-trainable params: \u001b[0m\u001b[38;5;34m0\u001b[0m (0.00 B)\n"
      ]
     },
     "metadata": {},
     "output_type": "display_data"
    }
   ],
   "source": [
    "# CNN \n",
    "model = models.Sequential([\n",
    "    layers.Input(shape=(X_train.shape[1], X_train.shape[2], 1)),\n",
    "    layers.Conv2D(32, (3, 3), activation=\"relu\", padding=\"same\"),\n",
    "    layers.MaxPooling2D((2, 2)),\n",
    "    layers.Conv2D(64, (3, 3), activation=\"relu\", padding=\"same\"),\n",
    "    layers.MaxPooling2D((2, 2)),\n",
    "    layers.Conv2D(128, (3, 3), activation=\"relu\", padding=\"same\"),\n",
    "    layers.MaxPooling2D((2, 2)),\n",
    "    layers.Flatten(),\n",
    "    layers.Dense(128, activation=\"relu\"),\n",
    "    layers.Dropout(0.5),\n",
    "    layers.Dense(1, activation=\"sigmoid\")  # (Robocall/Non-Robocall)\n",
    "])\n",
    "\n",
    "model.compile(optimizer=\"adam\", loss=\"binary_crossentropy\", metrics=[\"accuracy\"])\n",
    "model.summary()"
   ]
  },
  {
   "cell_type": "code",
   "execution_count": null,
   "metadata": {
    "execution": {
     "iopub.execute_input": "2025-04-23T13:10:43.689148Z",
     "iopub.status.busy": "2025-04-23T13:10:43.688808Z",
     "iopub.status.idle": "2025-04-23T13:11:01.148682Z",
     "shell.execute_reply": "2025-04-23T13:11:01.147482Z",
     "shell.execute_reply.started": "2025-04-23T13:10:43.689118Z"
    },
    "trusted": true
   },
   "outputs": [
    {
     "name": "stdout",
     "output_type": "stream",
     "text": [
      "Epoch 1/10\n",
      "\u001b[1m71/71\u001b[0m \u001b[32m━━━━━━━━━━━━━━━━━━━━\u001b[0m\u001b[37m\u001b[0m \u001b[1m9s\u001b[0m 59ms/step - accuracy: 0.7223 - loss: 10.9286 - val_accuracy: 0.9627 - val_loss: 0.1189\n",
      "Epoch 2/10\n",
      "\u001b[1m71/71\u001b[0m \u001b[32m━━━━━━━━━━━━━━━━━━━━\u001b[0m\u001b[37m\u001b[0m \u001b[1m1s\u001b[0m 12ms/step - accuracy: 0.9620 - loss: 0.1319 - val_accuracy: 0.9698 - val_loss: 0.0925\n",
      "Epoch 3/10\n",
      "\u001b[1m71/71\u001b[0m \u001b[32m━━━━━━━━━━━━━━━━━━━━\u001b[0m\u001b[37m\u001b[0m \u001b[1m1s\u001b[0m 12ms/step - accuracy: 0.9649 - loss: 0.0819 - val_accuracy: 0.9787 - val_loss: 0.0496\n",
      "Epoch 4/10\n",
      "\u001b[1m71/71\u001b[0m \u001b[32m━━━━━━━━━━━━━━━━━━━━\u001b[0m\u001b[37m\u001b[0m \u001b[1m1s\u001b[0m 12ms/step - accuracy: 0.9797 - loss: 0.0662 - val_accuracy: 0.9840 - val_loss: 0.0520\n",
      "Epoch 5/10\n",
      "\u001b[1m71/71\u001b[0m \u001b[32m━━━━━━━━━━━━━━━━━━━━\u001b[0m\u001b[37m\u001b[0m \u001b[1m1s\u001b[0m 12ms/step - accuracy: 0.9304 - loss: 0.2134 - val_accuracy: 0.9591 - val_loss: 0.1523\n",
      "Epoch 6/10\n",
      "\u001b[1m71/71\u001b[0m \u001b[32m━━━━━━━━━━━━━━━━━━━━\u001b[0m\u001b[37m\u001b[0m \u001b[1m1s\u001b[0m 12ms/step - accuracy: 0.9772 - loss: 0.0787 - val_accuracy: 0.9858 - val_loss: 0.0372\n",
      "Epoch 7/10\n",
      "\u001b[1m71/71\u001b[0m \u001b[32m━━━━━━━━━━━━━━━━━━━━\u001b[0m\u001b[37m\u001b[0m \u001b[1m1s\u001b[0m 12ms/step - accuracy: 0.9859 - loss: 0.0364 - val_accuracy: 0.9858 - val_loss: 0.0399\n",
      "Epoch 8/10\n",
      "\u001b[1m71/71\u001b[0m \u001b[32m━━━━━━━━━━━━━━━━━━━━\u001b[0m\u001b[37m\u001b[0m \u001b[1m1s\u001b[0m 12ms/step - accuracy: 0.9912 - loss: 0.0236 - val_accuracy: 0.9716 - val_loss: 0.1024\n",
      "Epoch 9/10\n",
      "\u001b[1m71/71\u001b[0m \u001b[32m━━━━━━━━━━━━━━━━━━━━\u001b[0m\u001b[37m\u001b[0m \u001b[1m1s\u001b[0m 12ms/step - accuracy: 0.9875 - loss: 0.0354 - val_accuracy: 0.9929 - val_loss: 0.0350\n",
      "Epoch 10/10\n",
      "\u001b[1m71/71\u001b[0m \u001b[32m━━━━━━━━━━━━━━━━━━━━\u001b[0m\u001b[37m\u001b[0m \u001b[1m1s\u001b[0m 12ms/step - accuracy: 0.9957 - loss: 0.0138 - val_accuracy: 0.9840 - val_loss: 0.0737\n"
     ]
    },
    {
     "data": {
      "image/png": "[encoded data removed]",
      "text/plain": [
       "<Figure size 640x480 with 1 Axes>"
      ]
     },
     "metadata": {},
     "output_type": "display_data"
    }
   ],
   "source": [
    "#Train the CNN\n",
    "history = model.fit(X_train, y_train, epochs=10, batch_size=32, validation_data=(X_test, y_test))\n",
    "\n",
    "# plot the acc of train and valid subsets\n",
    "plt.plot(history.history[\"accuracy\"], label=\"Training Accuracy\")\n",
    "plt.plot(history.history[\"val_accuracy\"], label=\"Validation Accuracy\")\n",
    "plt.xlabel(\"Epoch\")\n",
    "plt.ylabel(\"Accuracy\")\n",
    "plt.legend()\n",
    "plt.show()"
   ]
  },
  {
   "cell_type": "code",
   "execution_count": null,
   "metadata": {
    "execution": {
     "iopub.execute_input": "2025-04-23T13:11:01.150909Z",
     "iopub.status.busy": "2025-04-23T13:11:01.149937Z",
     "iopub.status.idle": "2025-04-23T13:11:01.746048Z",
     "shell.execute_reply": "2025-04-23T13:11:01.745341Z",
     "shell.execute_reply.started": "2025-04-23T13:11:01.150869Z"
    },
    "trusted": true
   },
   "outputs": [
    {
     "name": "stdout",
     "output_type": "stream",
     "text": [
      "\u001b[1m1/1\u001b[0m \u001b[32m━━━━━━━━━━━━━━━━━━━━\u001b[0m\u001b[37m\u001b[0m \u001b[1m1s\u001b[0m 503ms/step\n",
      "Prediction: Non-Robocall\n"
     ]
    }
   ],
   "source": [
    "# test new sample\n",
    "test_file = '/kaggle/input/common-voice/cv-invalid/cv-invalid/sample-000955.mp3'\n",
    "spectrogram = extract_spectrogram(test_file)\n",
    "spectrogram = spectrogram[np.newaxis, ..., np.newaxis]  # إضافة أبعاد للتنبؤ\n",
    "\n",
    "# التنبؤ\n",
    "prediction = model.predict(spectrogram)\n",
    "label = \"Robocall\" if prediction[0] > 0.5 else \"Non-Robocall\"\n",
    "print(f\"Prediction: {label}\")"
   ]
  },
  {
   "cell_type": "code",
   "execution_count": 23,
   "metadata": {
    "execution": {
     "iopub.execute_input": "2025-04-23T13:11:01.747170Z",
     "iopub.status.busy": "2025-04-23T13:11:01.746854Z",
     "iopub.status.idle": "2025-04-23T13:11:01.874061Z",
     "shell.execute_reply": "2025-04-23T13:11:01.873150Z",
     "shell.execute_reply.started": "2025-04-23T13:11:01.747138Z"
    },
    "trusted": true
   },
   "outputs": [
    {
     "name": "stdout",
     "output_type": "stream",
     "text": [
      "saved model\n"
     ]
    }
   ],
   "source": [
    "model.save(\"/kaggle/working/robocall_classifier.h5\")\n",
    "print('saved model')"
   ]
  },
  {
   "cell_type": "code",
   "execution_count": null,
   "metadata": {
    "trusted": true
   },
   "outputs": [],
   "source": []
  },
  {
   "cell_type": "code",
   "execution_count": null,
   "metadata": {
    "trusted": true
   },
   "outputs": [],
   "source": []
  }
 ],
 "metadata": {
  "kaggle": {
   "accelerator": "gpu",
   "dataSources": [
    {
     "datasetId": 5793,
     "sourceId": 9812,
     "sourceType": "datasetVersion"
    },
    {
     "datasetId": 5780511,
     "sourceId": 9498834,
     "sourceType": "datasetVersion"
    }
   ],
   "dockerImageVersionId": 30919,
   "isGpuEnabled": true,
   "isInternetEnabled": true,
   "language": "python",
   "sourceType": "notebook"
  },
  "kernelspec": {
   "display_name": "Python 3",
   "language": "python",
   "name": "python3"
  },
  "language_info": {
   "codemirror_mode": {
    "name": "ipython",
    "version": 3
   },
   "file_extension": ".py",
   "mimetype": "text/x-python",
   "name": "python",
   "nbconvert_exporter": "python",
   "pygments_lexer": "ipython3",
   "version": "3.10.12"
  }
 },
 "nbformat": 4,
 "nbformat_minor": 4
}
